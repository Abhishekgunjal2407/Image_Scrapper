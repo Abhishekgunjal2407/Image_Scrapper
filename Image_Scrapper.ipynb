{
 "cells": [
  {
   "cell_type": "code",
   "execution_count": 105,
   "id": "cd4d4e67-f9eb-4cf4-829d-1012f7cad86a",
   "metadata": {},
   "outputs": [],
   "source": [
    "import requests\n",
    "import logging\n",
    "import os\n",
    "from bs4 import BeautifulSoup  #used to parsing data from HTML or XML pages\n",
    "from urllib.request import urlopen   #for requesting somethimg drom server"
   ]
  },
  {
   "cell_type": "code",
   "execution_count": 106,
   "id": "d652af61-0283-45db-9d45-8671d5d5000d",
   "metadata": {},
   "outputs": [],
   "source": [
    "save_dir = \"images/\"\n",
    "if not os.path.exists(save_dir):\n",
    "    os.makedirs(save_dir)"
   ]
  },
  {
   "cell_type": "code",
   "execution_count": 119,
   "id": "d5e1b6c5-2081-4697-8310-4943a3f59397",
   "metadata": {},
   "outputs": [],
   "source": [
    "query = \"Virat Kohli\"\n",
    "#url = https://www.google.com/search?sca_esv=555778131&rlz=1C1CHBD_enIN925IN925&sxsrf=AB5stBhKkX79Ex50Brj0-NrRVUiHpjvpHg:1691732816052&q=query&tbm=isch&source=lnms&sa=X&ved=2ahUKEwitx7js89OAAxV2dmwGHSK1BNgQ0pQJegQIDBAB&biw=1536&bih=707&dpr=1.25"
   ]
  },
  {
   "cell_type": "code",
   "execution_count": 120,
   "id": "7af03111-b6fb-4629-be54-a8596859cfe6",
   "metadata": {},
   "outputs": [],
   "source": [
    "response = requests.get(f\"https://www.google.com/search?sca_esv=555778131&rlz=1C1CHBD_enIN925IN925&sxsrf=AB5stBhKkX79Ex50Brj0-NrRVUiHpjvpHg:1691732816052&q={query}&tbm=isch&source=lnms&sa=X&ved=2ahUKEwitx7js89OAAxV2dmwGHSK1BNgQ0pQJegQIDBAB&biw=1536&bih=707&dpr=1.25\")"
   ]
  },
  {
   "cell_type": "code",
   "execution_count": 121,
   "id": "cbe2cf97-0a96-4069-9e57-9e91ce54726d",
   "metadata": {},
   "outputs": [
    {
     "data": {
      "text/plain": [
       "<Response [200]>"
      ]
     },
     "execution_count": 121,
     "metadata": {},
     "output_type": "execute_result"
    }
   ],
   "source": [
    "response"
   ]
  },
  {
   "cell_type": "code",
   "execution_count": 122,
   "id": "307cee87-44be-46f1-9c30-510dce522f9e",
   "metadata": {},
   "outputs": [],
   "source": [
    "soup = BeautifulSoup(response.content,\"html.parser\")"
   ]
  },
  {
   "cell_type": "code",
   "execution_count": 123,
   "id": "b0453be7-619f-428a-b531-09b5eb5f968d",
   "metadata": {},
   "outputs": [
    {
     "data": {
      "text/plain": [
       "<!DOCTYPE html PUBLIC \"-//WAPFORUM//DTD XHTML Mobile 1.0//EN\" \"http://www.wapforum.org/DTD/xhtml-mobile10.dtd\">\n",
       "<html lang=\"en-IN\" xmlns=\"http://www.w3.org/1999/xhtml\"><head><meta content=\"application/xhtml+xml; charset=utf-8\" http-equiv=\"Content-Type\"/><meta content=\"no-cache\" name=\"Cache-Control\"/><title>Virat Kohli - Google Search</title><style>a{text-decoration:none;color:inherit}a:hover{text-decoration:underline}a img{border:0}body{font-family:arial,sans-serif;padding:8px;margin:0 auto;max-width:700px;min-width:240px;}.FbhRzb{border-left:thin solid #dadce0;border-right:thin solid #dadce0;border-top:thin solid #dadce0;height:40px;overflow:hidden}.n692Zd{margin-bottom:10px}.cvifge{height:40px;border-spacing:0}.QvGUP{height:40px;padding:0 8px 0 8px;vertical-align:top}.O4cRJf{height:40px;width:100%;padding:0;padding-right:16px}.O1ePr{height:40px;padding:0;vertical-align:top}.kgJEQe{height:36px;width:98px;vertical-align:top;margin-top:4px}.lXLRf{vertical-align:top}.MhzMZd{border:0;vertical-align:middle;font-size:14px;height:40px;padding:0;width:100%;padding-left:16px}.xB0fq{height:40px;border:none;font-size:14px;background-color:#1a73e8;color:#fff;padding:0 16px;margin:0;vertical-align:top;cursor:pointer}.xB0fq:focus{border:1px solid #1a73e8}.M7pB2{border:thin solid #dadce0;margin:0 0 3px 0;font-size:13px;font-weight:500;height:40px}.euZec{width:100%;height:40px;text-align:center;border-spacing:0}table.euZec td{padding:0;width:25%}.QIqI7{display:inline-block;padding-top:4px;font-weight:bold;color:#4285f4}.EY24We{border-bottom:2px solid #4285f4}.CsQyDc{display:inline-block;color:#70757a}.TuS8Ad{font-size:14px}.HddGcc{padding:8px;color:#70757a}.dzp8ae{font-weight:bold;color:#3c4043}.rEM8G{color:#70757a}.bookcf{table-layout:fixed;width:100%;border-spacing:0}.InWNIe{text-align:center}.uZgmoc{border:thin solid #dadce0;color:#70757a;font-size:14px;text-align:center;table-layout:fixed;width:100%}.frGj1b{display:block;padding:12px 0 12px 0;width:100%}.BnJWBc{text-align:center;padding:6px 0 13px 0;height:35px}.e3goi{vertical-align:top;padding:0;height:180px}.GpQGbf{margin:auto;border-collapse:collapse;border-spacing:0;width:100%}</style></head><body><style>.X6ZCif{color:#202124;font-size:11px;line-height:16px;display:inline-block;padding-top:2px;overflow:hidden;padding-bottom:4px;width:100%}.TwVfHd{border-radius:16px;border:thin solid #dadce0;display:inline-block;padding:8px 8px;margin-right:8px;margin-bottom:4px}.yekiAe{background-color:#dadce0}.mnTahd{width:100%}.ezO2md{border:thin solid #dadce0;padding:12px 16px 12px 16px;margin-bottom:10px;font-family:arial,sans-serif}.lIMUZd{font-family:arial,sans-serif}.IkMU6e{border-spacing:0}.SjCsie{width:100%}.EnarA{text-align:center}.NZWO1b{width:162px;height:140px;line-height:140px;overflow:'hidden';text-align:center}.yWs4tf{text-align:center;margin:auto;vertical-align:middle;max-width:162px;max-height:140px}.jB2rPd{padding-top:2px;padding-bottom:8px;}.fYyStc{word-break:break-word}.ynsChf{display:block;white-space:nowrap;overflow:hidden;text-overflow:ellipsis}.Fj3V3b{color:#1967d2;font-size:14px;line-height:20px}.FrIlee{color:#202124;font-size:11px;line-height:16px}.F9iS2e{color:#70757a;font-size:11px;line-height:16px}.WMQ2Le{color:#70757a;font-size:12px;line-height:16px}.x3G5ab{color:#202124;font-size:12px;line-height:16px}.fuLhoc{color:#1967d2;font-size:16px;line-height:20px}.epoveb{font-size:24px;line-height:28px;font-weight:400;color:#202124}.dXDvrc{color:#0d652d;font-size:14px;line-height:20px;word-wrap:break-word}.dloBPe{font-weight:bold}.YVIcad{color:#70757a}.JkVVdd{color:#ea4335}.oXZRFd{color:#ea4335}.MQHtg{color:#fbbc04}.pyMRrb{color:#1e8e3e}.EtTZid{color:#1e8e3e}.M3vVJe{color:#1967d2}.qXLe6d{display:block}.NHQNef{font-style:italic}.Cb8Z7c{white-space:pre}a.ZWRArf{text-decoration:none}a .CVA68e:hover{text-decoration:underline}</style><div class=\"n692Zd\"><div class=\"BnJWBc\"><a class=\"lXLRf\" href=\"/?sa=X&amp;sca_esv=555778131&amp;rlz=1C1CHBD_enIN925IN925&amp;biw=1536&amp;bih=707&amp;output=images&amp;ie=UTF-8&amp;tbm=isch&amp;ved=0ahUKEwijso_chNSAAxXWUGwGHbSdDjEQPAgC\"><img alt=\"Google\" class=\"kgJEQe\" src=\"/images/branding/searchlogo/1x/googlelogo_desk_heirloom_color_150x55dp.gif\"/></a></div><div class=\"FbhRzb\"><form action=\"/search\"><input name=\"sca_esv\" type=\"hidden\" value=\"555778131\"/><input name=\"rlz\" type=\"hidden\" value=\"1C1CHBD_enIN925IN925\"/><input name=\"biw\" type=\"hidden\" value=\"1536\"/><input name=\"bih\" type=\"hidden\" value=\"707\"/><input name=\"ie\" type=\"hidden\" value=\"ISO-8859-1\"/><input name=\"tbm\" type=\"hidden\" value=\"isch\"/><input name=\"oq\" type=\"hidden\"/><input name=\"aqs\" type=\"hidden\"/><table class=\"cvifge\"><tr><td class=\"O4cRJf\"><input class=\"MhzMZd\" name=\"q\" type=\"text\" value=\"Virat Kohli\"/></td><td class=\"O1ePr\"><input class=\"xB0fq\" type=\"submit\" value=\"Search\"/></td></tr></table></form></div><div class=\"M7pB2\"><table class=\"euZec\"><tbody><tr><td><a class=\"CsQyDc\" href=\"/search?q=Virat+Kohli&amp;sca_esv=555778131&amp;rlz=1C1CHBD_enIN925IN925&amp;biw=1536&amp;bih=707&amp;ie=UTF-8&amp;source=lnms&amp;sa=X&amp;ved=0ahUKEwijso_chNSAAxXWUGwGHbSdDjEQ_AUIBCgA\">ALL</a></td><td class=\"EY24We\"><span class=\"QIqI7\">IMAGES</span></td><td><a class=\"CsQyDc\" href=\"/search?q=Virat+Kohli&amp;sca_esv=555778131&amp;rlz=1C1CHBD_enIN925IN925&amp;biw=1536&amp;bih=707&amp;ie=UTF-8&amp;tbm=nws&amp;source=lnms&amp;sa=X&amp;ved=0ahUKEwijso_chNSAAxXWUGwGHbSdDjEQ_AUIBigC\">NEWS</a></td><td><a class=\"CsQyDc\" href=\"/search?q=Virat+Kohli&amp;sca_esv=555778131&amp;rlz=1C1CHBD_enIN925IN925&amp;biw=1536&amp;bih=707&amp;ie=UTF-8&amp;tbm=vid&amp;source=lnms&amp;sa=X&amp;ved=0ahUKEwijso_chNSAAxXWUGwGHbSdDjEQ_AUIBygD\">VIDEOS</a></td></tr></tbody></table></div></div><div class=\"X6ZCif\"><a class=\"TwVfHd\" href=\"/search?sca_esv=555778131&amp;rlz=1C1CHBD_enIN925IN925&amp;biw=1536&amp;bih=707&amp;ie=UTF-8&amp;tbm=isch&amp;q=Virat+Kohli&amp;chips=q:virat+kohli,g_1:wallpaper&amp;sa=X&amp;ved=0ahUKEwijso_chNSAAxXWUGwGHbSdDjEQ4lYICygA\">wallpaper</a><a class=\"TwVfHd\" href=\"/search?sca_esv=555778131&amp;rlz=1C1CHBD_enIN925IN925&amp;biw=1536&amp;bih=707&amp;ie=UTF-8&amp;tbm=isch&amp;q=Virat+Kohli&amp;chips=q:virat+kohli,g_1:hairstyle&amp;sa=X&amp;ved=0ahUKEwijso_chNSAAxXWUGwGHbSdDjEQ4lYIDCgB\">hairstyle</a><a class=\"TwVfHd\" href=\"/search?sca_esv=555778131&amp;rlz=1C1CHBD_enIN925IN925&amp;biw=1536&amp;bih=707&amp;ie=UTF-8&amp;tbm=isch&amp;q=Virat+Kohli&amp;chips=q:virat+kohli,g_1:style&amp;sa=X&amp;ved=0ahUKEwijso_chNSAAxXWUGwGHbSdDjEQ4lYIDSgC\">style</a><a class=\"TwVfHd\" href=\"/search?sca_esv=555778131&amp;rlz=1C1CHBD_enIN925IN925&amp;biw=1536&amp;bih=707&amp;ie=UTF-8&amp;tbm=isch&amp;q=Virat+Kohli&amp;chips=q:virat+kohli,g_1:wedding&amp;sa=X&amp;ved=0ahUKEwijso_chNSAAxXWUGwGHbSdDjEQ4lYIDigD\">wedding</a><a class=\"TwVfHd\" href=\"/search?sca_esv=555778131&amp;rlz=1C1CHBD_enIN925IN925&amp;biw=1536&amp;bih=707&amp;ie=UTF-8&amp;tbm=isch&amp;q=Virat+Kohli&amp;chips=q:virat+kohli,g_1:new+look&amp;sa=X&amp;ved=0ahUKEwijso_chNSAAxXWUGwGHbSdDjEQ4lYIDygE\">new look</a><a class=\"TwVfHd\" href=\"/search?sca_esv=555778131&amp;rlz=1C1CHBD_enIN925IN925&amp;biw=1536&amp;bih=707&amp;ie=UTF-8&amp;tbm=isch&amp;q=Virat+Kohli&amp;chips=q:virat+kohli,g_1:captain&amp;sa=X&amp;ved=0ahUKEwijso_chNSAAxXWUGwGHbSdDjEQ4lYIECgF\">captain</a><a class=\"TwVfHd\" href=\"/search?sca_esv=555778131&amp;rlz=1C1CHBD_enIN925IN925&amp;biw=1536&amp;bih=707&amp;ie=UTF-8&amp;tbm=isch&amp;q=Virat+Kohli&amp;chips=q:virat+kohli,g_1:tattoo&amp;sa=X&amp;ved=0ahUKEwijso_chNSAAxXWUGwGHbSdDjEQ4lYIESgG\">tattoo</a><a class=\"TwVfHd\" href=\"/search?sca_esv=555778131&amp;rlz=1C1CHBD_enIN925IN925&amp;biw=1536&amp;bih=707&amp;ie=UTF-8&amp;tbm=isch&amp;q=Virat+Kohli&amp;chips=q:virat+kohli,g_1:century&amp;sa=X&amp;ved=0ahUKEwijso_chNSAAxXWUGwGHbSdDjEQ4lYIEigH\">century</a><a class=\"TwVfHd\" href=\"/search?sca_esv=555778131&amp;rlz=1C1CHBD_enIN925IN925&amp;biw=1536&amp;bih=707&amp;ie=UTF-8&amp;tbm=isch&amp;q=Virat+Kohli&amp;chips=q:virat+kohli,g_1:sketch&amp;sa=X&amp;ved=0ahUKEwijso_chNSAAxXWUGwGHbSdDjEQ4lYIEygI\">sketch</a><a class=\"TwVfHd\" href=\"/search?sca_esv=555778131&amp;rlz=1C1CHBD_enIN925IN925&amp;biw=1536&amp;bih=707&amp;ie=UTF-8&amp;tbm=isch&amp;q=Virat+Kohli&amp;chips=q:virat+kohli,g_1:rohit+sharma&amp;sa=X&amp;ved=0ahUKEwijso_chNSAAxXWUGwGHbSdDjEQ4lYIFCgJ\">rohit sharma</a></div><div><table class=\"GpQGbf\"><tr><td align=\"center\" class=\"e3goi\"><div class=\"mnTahd\"> <div> <div class=\"lIMUZd\"><div><table class=\"IkMU6e\"><tr><td><a href=\"/url?q=https://www.espncricinfo.com/cricketers/virat-kohli-253802&amp;sa=U&amp;ved=2ahUKEwijso_chNSAAxXWUGwGHbSdDjEQqoUBegQICBAB&amp;usg=AOvVaw1hBaNBeQYqh-pMkJdyILSK\"><div class=\"NZWO1b\"><img alt=\"\" class=\"yWs4tf\" src=\"https://encrypted-tbn0.gstatic.com/images?q=tbn:ANd9GcSK5yCaJ2Z89H3mjG2pVjY9N4R5oiPNQPgSk0yYX4Wiv3mMSccD2ttNoKKUgg&amp;s\"/></div></a></td></tr><tr><td><a href=\"/url?q=https://www.espncricinfo.com/cricketers/virat-kohli-253802&amp;sa=U&amp;ved=2ahUKEwijso_chNSAAxXWUGwGHbSdDjEQr4kDegQICBAC&amp;usg=AOvVaw324vPjKXk4hxm8M60dqAog\"><div class=\"jB2rPd\"> <span class=\"qXLe6d x3G5ab\"> <span class=\"fYyStc\">Virat Kohli Profile -...</span> </span> <span class=\"qXLe6d F9iS2e\"> <span class=\"fYyStc\">www.espncricinfo.com</span> </span> </div></a></td></tr></table></div></div> </div> </div></td><td align=\"center\" class=\"e3goi\"><div class=\"mnTahd\"> <div> <div class=\"lIMUZd\"><div><table class=\"IkMU6e\"><tr><td><a href=\"/url?q=https://m.timesofindia.com/sports/cricket/australia-in-india/virat-kohli-not-scoring-big-was-eating-me-up/articleshow/98627406.cms&amp;sa=U&amp;ved=2ahUKEwijso_chNSAAxXWUGwGHbSdDjEQqoUBegQIExAB&amp;usg=AOvVaw31x94U4EPGu8VDOKmSWE8a\"><div class=\"NZWO1b\"><img alt=\"\" class=\"yWs4tf\" src=\"https://encrypted-tbn0.gstatic.com/images?q=tbn:ANd9GcSsTQE9kUgA7CpXnlWeWO7nMT28THW_0zLfeLBhDC57BXHpZl6RjtWlXvCDD2M&amp;s\"/></div></a></td></tr><tr><td><a href=\"/url?q=https://m.timesofindia.com/sports/cricket/australia-in-india/virat-kohli-not-scoring-big-was-eating-me-up/articleshow/98627406.cms&amp;sa=U&amp;ved=2ahUKEwijso_chNSAAxXWUGwGHbSdDjEQr4kDegQIExAC&amp;usg=AOvVaw1D69d7d7hjmDIWBCCSIAHH\"><div class=\"jB2rPd\"> <span class=\"qXLe6d x3G5ab\"> <span class=\"fYyStc\">Virat Kohli: Not scoring...</span> </span> <span class=\"qXLe6d F9iS2e\"> <span class=\"fYyStc\">m.timesofindia.com</span> </span> </div></a></td></tr></table></div></div> </div> </div></td><td align=\"center\" class=\"e3goi\"><div class=\"mnTahd\"> <div> <div class=\"lIMUZd\"><div><table class=\"IkMU6e\"><tr><td><a href=\"/url?q=https://www.insidesport.in/watch-virat-kohli-get-a-new-haircut-ahead-of-asia-cup-2023/&amp;sa=U&amp;ved=2ahUKEwijso_chNSAAxXWUGwGHbSdDjEQqoUBegQIEhAB&amp;usg=AOvVaw2u_kuLaZaVNG1jwyIi0Z8K\"><div class=\"NZWO1b\"><img alt=\"\" class=\"yWs4tf\" src=\"https://encrypted-tbn0.gstatic.com/images?q=tbn:ANd9GcSjWdRodG8Y6ldFuSq2fgASCmjbfVVIzbnKcbwvpoULo3BBNC4lcGn3U3oppQ&amp;s\"/></div></a></td></tr><tr><td><a href=\"/url?q=https://www.insidesport.in/watch-virat-kohli-get-a-new-haircut-ahead-of-asia-cup-2023/&amp;sa=U&amp;ved=2ahUKEwijso_chNSAAxXWUGwGHbSdDjEQr4kDegQIEhAC&amp;usg=AOvVaw3Zf38zBvpPBQ7PkdLWmGUx\"><div class=\"jB2rPd\"> <span class=\"qXLe6d x3G5ab\"> <span class=\"fYyStc\">WATCH Virat Kohli get a new...</span> </span> <span class=\"qXLe6d F9iS2e\"> <span class=\"fYyStc\">www.insidesport.in</span> </span> </div></a></td></tr></table></div></div> </div> </div></td><td align=\"center\" class=\"e3goi\"><div class=\"mnTahd\"> <div> <div class=\"lIMUZd\"><div><table class=\"IkMU6e\"><tr><td><a href=\"/url?q=https://www.gkv.ac.in/cricket/virat-kohli-runs-in-ipl-2023/&amp;sa=U&amp;ved=2ahUKEwijso_chNSAAxXWUGwGHbSdDjEQqoUBegQIDhAB&amp;usg=AOvVaw2jmDDZU5tqa62WaCPtJ3Xw\"><div class=\"NZWO1b\"><img alt=\"\" class=\"yWs4tf\" src=\"https://encrypted-tbn0.gstatic.com/images?q=tbn:ANd9GcTU4lX_uLZskPYJP9vnpakjPHMu41EehJHA0RuA4ONU_rqBNJNgg68HohT0KTQ&amp;s\"/></div></a></td></tr><tr><td><a href=\"/url?q=https://www.gkv.ac.in/cricket/virat-kohli-runs-in-ipl-2023/&amp;sa=U&amp;ved=2ahUKEwijso_chNSAAxXWUGwGHbSdDjEQr4kDegQIDhAC&amp;usg=AOvVaw3HkEs8rGFa4ZhIDrNAJhhd\"><div class=\"jB2rPd\"> <span class=\"qXLe6d x3G5ab\"> <span class=\"fYyStc\">Virat Kohli Runs In Ipl...</span> </span> <span class=\"qXLe6d F9iS2e\"> <span class=\"fYyStc\">www.gkv.ac.in</span> </span> </div></a></td></tr></table></div></div> </div> </div></td></tr><tr><td align=\"center\" class=\"e3goi\"><div class=\"mnTahd\"> <div> <div class=\"lIMUZd\"><div><table class=\"IkMU6e\"><tr><td><a href=\"/url?q=https://www.moneycontrol.com/news/trends/virat-kohli-faces-flak-for-taking-a-chartered-flight-double-standards-11101271.html&amp;sa=U&amp;ved=2ahUKEwijso_chNSAAxXWUGwGHbSdDjEQqoUBegQIDxAB&amp;usg=AOvVaw0ICWgjZJrmmIj_t55uRMSK\"><div class=\"NZWO1b\"><img alt=\"\" class=\"yWs4tf\" src=\"https://encrypted-tbn0.gstatic.com/images?q=tbn:ANd9GcTReV0LciH03tq8BhPJQUDlahamoD23oX5-BsMeyykdWYERtg_Z-AkbRfyG9gs&amp;s\"/></div></a></td></tr><tr><td><a href=\"/url?q=https://www.moneycontrol.com/news/trends/virat-kohli-faces-flak-for-taking-a-chartered-flight-double-standards-11101271.html&amp;sa=U&amp;ved=2ahUKEwijso_chNSAAxXWUGwGHbSdDjEQr4kDegQIDxAC&amp;usg=AOvVaw19clLbvYfwTM6_DZYUesqY\"><div class=\"jB2rPd\"> <span class=\"qXLe6d x3G5ab\"> <span class=\"fYyStc\">Virat Kohli faces flak for...</span> </span> <span class=\"qXLe6d F9iS2e\"> <span class=\"fYyStc\">www.moneycontrol.com</span> </span> </div></a></td></tr></table></div></div> </div> </div></td><td align=\"center\" class=\"e3goi\"><div class=\"mnTahd\"> <div> <div class=\"lIMUZd\"><div><table class=\"IkMU6e\"><tr><td><a href=\"/url?q=https://simple.wikipedia.org/wiki/Virat_Kohli&amp;sa=U&amp;ved=2ahUKEwijso_chNSAAxXWUGwGHbSdDjEQqoUBegQIERAB&amp;usg=AOvVaw26tPnNBW_kLWEdjzaKUOQe\"><div class=\"NZWO1b\"><img alt=\"\" class=\"yWs4tf\" src=\"https://encrypted-tbn0.gstatic.com/images?q=tbn:ANd9GcSApOD8cC7Jh33c0VqbcFkcmx0og9wr1DYsD50a8Tp3p-0I33M_SuuLXA0Kizk&amp;s\"/></div></a></td></tr><tr><td><a href=\"/url?q=https://simple.wikipedia.org/wiki/Virat_Kohli&amp;sa=U&amp;ved=2ahUKEwijso_chNSAAxXWUGwGHbSdDjEQr4kDegQIERAC&amp;usg=AOvVaw15NvRhC2ZuL1gBVdhuOqiq\"><div class=\"jB2rPd\"> <span class=\"qXLe6d x3G5ab\"> <span class=\"fYyStc\">Virat Kohli - Simple...</span> </span> <span class=\"qXLe6d F9iS2e\"> <span class=\"fYyStc\">simple.wikipedia.org</span> </span> </div></a></td></tr></table></div></div> </div> </div></td><td align=\"center\" class=\"e3goi\"><div class=\"mnTahd\"> <div> <div class=\"lIMUZd\"><div><table class=\"IkMU6e\"><tr><td><a href=\"/url?q=https://zeenews.india.com/photos/sports/virat-kohli-to-sourav-ganguly-top-10-highest-scores-in-asia-cup-odi-matches-in-pics-2646119&amp;sa=U&amp;ved=2ahUKEwijso_chNSAAxXWUGwGHbSdDjEQqoUBegQIEBAB&amp;usg=AOvVaw0z4DOQIqQS_8iiJdaFdIYS\"><div class=\"NZWO1b\"><img alt=\"\" class=\"yWs4tf\" src=\"https://encrypted-tbn0.gstatic.com/images?q=tbn:ANd9GcRUmjrvGXJizjGvSXrZg2hAqbeIYK_tTwBST4GWzLF1IORFCBn3VI-ZPXIr5_w&amp;s\"/></div></a></td></tr><tr><td><a href=\"/url?q=https://zeenews.india.com/photos/sports/virat-kohli-to-sourav-ganguly-top-10-highest-scores-in-asia-cup-odi-matches-in-pics-2646119&amp;sa=U&amp;ved=2ahUKEwijso_chNSAAxXWUGwGHbSdDjEQr4kDegQIEBAC&amp;usg=AOvVaw3X1Xc8ddb04VMQB8Ep9nWB\"><div class=\"jB2rPd\"> <span class=\"qXLe6d x3G5ab\"> <span class=\"fYyStc\">Virat Kohli To Sourav...</span> </span> <span class=\"qXLe6d F9iS2e\"> <span class=\"fYyStc\">zeenews.india.com</span> </span> </div></a></td></tr></table></div></div> </div> </div></td><td align=\"center\" class=\"e3goi\"><div class=\"mnTahd\"> <div> <div class=\"lIMUZd\"><div><table class=\"IkMU6e\"><tr><td><a href=\"/url?q=https://www.espncricinfo.com/cricketers/virat-kohli-253802&amp;sa=U&amp;ved=2ahUKEwijso_chNSAAxXWUGwGHbSdDjEQqoUBegQIDRAB&amp;usg=AOvVaw0Jo0PxPoJR9K_d1x-kpuor\"><div class=\"NZWO1b\"><img alt=\"\" class=\"yWs4tf\" src=\"https://encrypted-tbn0.gstatic.com/images?q=tbn:ANd9GcSYb2hCfNGHcxzN5b9S3ssbiROUoNyLW_WYSLKPOiUjeTmd23VX1a3T3e7Vlfk&amp;s\"/></div></a></td></tr><tr><td><a href=\"/url?q=https://www.espncricinfo.com/cricketers/virat-kohli-253802&amp;sa=U&amp;ved=2ahUKEwijso_chNSAAxXWUGwGHbSdDjEQr4kDegQIDRAC&amp;usg=AOvVaw3Zt7egDEBd8rD1lN3Cpi2n\"><div class=\"jB2rPd\"> <span class=\"qXLe6d x3G5ab\"> <span class=\"fYyStc\">Virat Kohli Profile -...</span> </span> <span class=\"qXLe6d F9iS2e\"> <span class=\"fYyStc\">www.espncricinfo.com</span> </span> </div></a></td></tr></table></div></div> </div> </div></td></tr><tr><td align=\"center\" class=\"e3goi\"><div class=\"mnTahd\"> <div> <div class=\"lIMUZd\"><div><table class=\"IkMU6e\"><tr><td><a href=\"/url?q=https://www.timesnownews.com/web-stories/sports/five-players-who-earn-more-than-virat-kohli-in-international-cricket/photostory/102534280.cms&amp;sa=U&amp;ved=2ahUKEwijso_chNSAAxXWUGwGHbSdDjEQqoUBegQICRAB&amp;usg=AOvVaw0U_4Lunll1VqGdXC5JHmdK\"><div class=\"NZWO1b\"><img alt=\"\" class=\"yWs4tf\" src=\"https://encrypted-tbn0.gstatic.com/images?q=tbn:ANd9GcSWCJUMuHC6piORC9aaRK1DLWpwFoffDjE3G0zM_-qFsqGHetdykdgNsNzmzA&amp;s\"/></div></a></td></tr><tr><td><a href=\"/url?q=https://www.timesnownews.com/web-stories/sports/five-players-who-earn-more-than-virat-kohli-in-international-cricket/photostory/102534280.cms&amp;sa=U&amp;ved=2ahUKEwijso_chNSAAxXWUGwGHbSdDjEQr4kDegQICRAC&amp;usg=AOvVaw2gYhaDMz5Ns14FUBmizMvw\"><div class=\"jB2rPd\"> <span class=\"qXLe6d x3G5ab\"> <span class=\"fYyStc\">5 Players Who Earn More...</span> </span> <span class=\"qXLe6d F9iS2e\"> <span class=\"fYyStc\">www.timesnownews.com</span> </span> </div></a></td></tr></table></div></div> </div> </div></td><td align=\"center\" class=\"e3goi\"><div class=\"mnTahd\"> <div> <div class=\"lIMUZd\"><div><table class=\"IkMU6e\"><tr><td><a href=\"/url?q=https://timesofindia.indiatimes.com/sports/cricket/india-in-bangladesh/virat-kohli-slams-72nd-international-ton-surpasses-ricky-ponting-to-go-second-behind-sachin-tendulkar/articleshow/96131593.cms&amp;sa=U&amp;ved=2ahUKEwijso_chNSAAxXWUGwGHbSdDjEQqoUBegQIDBAB&amp;usg=AOvVaw1WmwW5XGaoJ4FGEvdps8-g\"><div class=\"NZWO1b\"><img alt=\"\" class=\"yWs4tf\" src=\"https://encrypted-tbn0.gstatic.com/images?q=tbn:ANd9GcRC7PXGvWDQRZyszF12W3RoXjr_nZ0Ox_CnclTzEmkLtB72VCOpuxZthQ2ib14&amp;s\"/></div></a></td></tr><tr><td><a href=\"/url?q=https://timesofindia.indiatimes.com/sports/cricket/india-in-bangladesh/virat-kohli-slams-72nd-international-ton-surpasses-ricky-ponting-to-go-second-behind-sachin-tendulkar/articleshow/96131593.cms&amp;sa=U&amp;ved=2ahUKEwijso_chNSAAxXWUGwGHbSdDjEQr4kDegQIDBAC&amp;usg=AOvVaw25pjfWyIqMOKawcxdol9MF\"><div class=\"jB2rPd\"> <span class=\"qXLe6d x3G5ab\"> <span class=\"fYyStc\">Virat Kohli slams 72nd...</span> </span> <span class=\"qXLe6d F9iS2e\"> <span class=\"fYyStc\">timesofindia.indiatimes.com...</span> </span> </div></a></td></tr></table></div></div> </div> </div></td><td align=\"center\" class=\"e3goi\"><div class=\"mnTahd\"> <div> <div class=\"lIMUZd\"><div><table class=\"IkMU6e\"><tr><td><a href=\"/url?q=https://www.hindustantimes.com/cricket/it-is-going-to-mean-nothing-in-15-20-years-virat-kohlis-no-nonsense-statement-after-76th-international-century-101689979387623.html&amp;sa=U&amp;ved=2ahUKEwijso_chNSAAxXWUGwGHbSdDjEQqoUBegQICxAB&amp;usg=AOvVaw1qLWafkU_jxiPqXhJlR081\"><div class=\"NZWO1b\"><img alt=\"\" class=\"yWs4tf\" src=\"https://encrypted-tbn0.gstatic.com/images?q=tbn:ANd9GcRH_DbJklV1yi6SfL9QCLllhUZrJPmeBMO9NYlOs-ZSPrDGJSWCekQKRAXknQ&amp;s\"/></div></a></td></tr><tr><td><a href=\"/url?q=https://www.hindustantimes.com/cricket/it-is-going-to-mean-nothing-in-15-20-years-virat-kohlis-no-nonsense-statement-after-76th-international-century-101689979387623.html&amp;sa=U&amp;ved=2ahUKEwijso_chNSAAxXWUGwGHbSdDjEQr4kDegQICxAC&amp;usg=AOvVaw1pJ-dn6Elcl66b0iu6WY37\"><div class=\"jB2rPd\"> <span class=\"qXLe6d x3G5ab\"> <span class=\"fYyStc\">Going to mean nothing in...</span> </span> <span class=\"qXLe6d F9iS2e\"> <span class=\"fYyStc\">www.hindustantimes.com</span> </span> </div></a></td></tr></table></div></div> </div> </div></td><td align=\"center\" class=\"e3goi\"><div class=\"mnTahd\"> <div> <div class=\"lIMUZd\"><div><table class=\"IkMU6e\"><tr><td><a href=\"/url?q=https://nationaltoday.com/birthday/virat-kohli/&amp;sa=U&amp;ved=2ahUKEwijso_chNSAAxXWUGwGHbSdDjEQqoUBegQIChAB&amp;usg=AOvVaw0wotgWkGVDk3qDPL5Th87V\"><div class=\"NZWO1b\"><img alt=\"\" class=\"yWs4tf\" src=\"https://encrypted-tbn0.gstatic.com/images?q=tbn:ANd9GcRLqGxMbCeVkZIDV3mQfmlpSxuBcW4YTlZBp78_utfaZ7ACU-1GI0fyT3cQVA&amp;s\"/></div></a></td></tr><tr><td><a href=\"/url?q=https://nationaltoday.com/birthday/virat-kohli/&amp;sa=U&amp;ved=2ahUKEwijso_chNSAAxXWUGwGHbSdDjEQr4kDegQIChAC&amp;usg=AOvVaw2JgnEG0vf_P7F-05OEx12M\"><div class=\"jB2rPd\"> <span class=\"qXLe6d x3G5ab\"> <span class=\"fYyStc\">Virat Kohli - Age, Bio,...</span> </span> <span class=\"qXLe6d F9iS2e\"> <span class=\"fYyStc\">nationaltoday.com</span> </span> </div></a></td></tr></table></div></div> </div> </div></td></tr><tr><td align=\"center\" class=\"e3goi\"><div class=\"mnTahd\"> <div> <div class=\"lIMUZd\"><div><table class=\"IkMU6e\"><tr><td><a href=\"/url?q=https://www.indiatoday.in/sports/cricket/story/india-world-cup-2023-virat-kohli-virender-sehwag-schedule-announcement-2398542-2023-06-27&amp;sa=U&amp;ved=2ahUKEwijso_chNSAAxXWUGwGHbSdDjEQqoUBegQIBhAB&amp;usg=AOvVaw1n7MbANW7JEjNHp86sBX5i\"><div class=\"NZWO1b\"><img alt=\"\" class=\"yWs4tf\" src=\"https://encrypted-tbn0.gstatic.com/images?q=tbn:ANd9GcT31MU-l5iezqCLOPE2jeiBB0geQsn8njIF0T290gdxybDBKMJOC5V1jM9QAg&amp;s\"/></div></a></td></tr><tr><td><a href=\"/url?q=https://www.indiatoday.in/sports/cricket/story/india-world-cup-2023-virat-kohli-virender-sehwag-schedule-announcement-2398542-2023-06-27&amp;sa=U&amp;ved=2ahUKEwijso_chNSAAxXWUGwGHbSdDjEQr4kDegQIBhAC&amp;usg=AOvVaw0geHs0XjoVp_AhPlA2sKE3\"><div class=\"jB2rPd\"> <span class=\"qXLe6d x3G5ab\"> <span class=\"fYyStc\">India would want to win the...</span> </span> <span class=\"qXLe6d F9iS2e\"> <span class=\"fYyStc\">www.indiatoday.in</span> </span> </div></a></td></tr></table></div></div> </div> </div></td><td align=\"center\" class=\"e3goi\"><div class=\"mnTahd\"> <div> <div class=\"lIMUZd\"><div><table class=\"IkMU6e\"><tr><td><a href=\"/url?q=https://m.timesofindia.com/sports/off-the-field/virat-kohli-loses-his-phone-tweets-has-anyone-seen-it/articleshow/97689098.cms&amp;sa=U&amp;ved=2ahUKEwijso_chNSAAxXWUGwGHbSdDjEQqoUBegQIBRAB&amp;usg=AOvVaw0JzrguQyEn4h7ZxC3yPesN\"><div class=\"NZWO1b\"><img alt=\"\" class=\"yWs4tf\" src=\"https://encrypted-tbn0.gstatic.com/images?q=tbn:ANd9GcRqcsRxx8SzpaF1o_MYhUt_DbPpfhH1X5cr3x2Tkh75V5XHuNAZQQeDBUoke2s&amp;s\"/></div></a></td></tr><tr><td><a href=\"/url?q=https://m.timesofindia.com/sports/off-the-field/virat-kohli-loses-his-phone-tweets-has-anyone-seen-it/articleshow/97689098.cms&amp;sa=U&amp;ved=2ahUKEwijso_chNSAAxXWUGwGHbSdDjEQr4kDegQIBRAC&amp;usg=AOvVaw0EmY23RXDcG6FsTAQQ183o\"><div class=\"jB2rPd\"> <span class=\"qXLe6d x3G5ab\"> <span class=\"fYyStc\">Viral: Virat Kohli loses...</span> </span> <span class=\"qXLe6d F9iS2e\"> <span class=\"fYyStc\">m.timesofindia.com</span> </span> </div></a></td></tr></table></div></div> </div> </div></td><td align=\"center\" class=\"e3goi\"><div class=\"mnTahd\"> <div> <div class=\"lIMUZd\"><div><table class=\"IkMU6e\"><tr><td><a href=\"/url?q=https://indianexpress.com/article/sports/cricket/chase-thriller-written-and-directed-by-virat-kohli-8226806/&amp;sa=U&amp;ved=2ahUKEwijso_chNSAAxXWUGwGHbSdDjEQqoUBegQIAxAB&amp;usg=AOvVaw09aN-jB3FSW8H-alEret6v\"><div class=\"NZWO1b\"><img alt=\"\" class=\"yWs4tf\" src=\"https://encrypted-tbn0.gstatic.com/images?q=tbn:ANd9GcT1wPMwjom0BIO31H3orhKUkYsbT5oN4zOcNxb7iJU6UZEW74DL2MK14EkYsUc&amp;s\"/></div></a></td></tr><tr><td><a href=\"/url?q=https://indianexpress.com/article/sports/cricket/chase-thriller-written-and-directed-by-virat-kohli-8226806/&amp;sa=U&amp;ved=2ahUKEwijso_chNSAAxXWUGwGHbSdDjEQr4kDegQIAxAC&amp;usg=AOvVaw0HXN53CA9engM2H9-92spN\"><div class=\"jB2rPd\"> <span class=\"qXLe6d x3G5ab\"> <span class=\"fYyStc\">Chase thriller written and...</span> </span> <span class=\"qXLe6d F9iS2e\"> <span class=\"fYyStc\">indianexpress.com</span> </span> </div></a></td></tr></table></div></div> </div> </div></td><td align=\"center\" class=\"e3goi\"><div class=\"mnTahd\"> <div> <div class=\"lIMUZd\"><div><table class=\"IkMU6e\"><tr><td><a href=\"/url?q=https://www.indiatoday.in/visualstories/sports/asia-cup-2023-virat-kohli-eyes-major-milestone-55088-10-08-2023&amp;sa=U&amp;ved=2ahUKEwijso_chNSAAxXWUGwGHbSdDjEQqoUBegQIBxAB&amp;usg=AOvVaw01OZozFu0406aKT0LMVe8n\"><div class=\"NZWO1b\"><img alt=\"\" class=\"yWs4tf\" src=\"https://encrypted-tbn0.gstatic.com/images?q=tbn:ANd9GcQ8uQIvZXJMtRljrDjNMDuQSBVPcTIfyX-c3mnPE_biPWLhrzOLT3O8TDzapg&amp;s\"/></div></a></td></tr><tr><td><a href=\"/url?q=https://www.indiatoday.in/visualstories/sports/asia-cup-2023-virat-kohli-eyes-major-milestone-55088-10-08-2023&amp;sa=U&amp;ved=2ahUKEwijso_chNSAAxXWUGwGHbSdDjEQr4kDegQIBxAC&amp;usg=AOvVaw0XXybzt_D4mDY25EqiYfjN\"><div class=\"jB2rPd\"> <span class=\"qXLe6d x3G5ab\"> <span class=\"fYyStc\">Asia Cup 2023: Virat Kohli...</span> </span> <span class=\"qXLe6d F9iS2e\"> <span class=\"fYyStc\">www.indiatoday.in</span> </span> </div></a></td></tr></table></div></div> </div> </div></td></tr><tr><td align=\"center\" class=\"e3goi\"><div class=\"mnTahd\"> <div> <div class=\"lIMUZd\"><div><table class=\"IkMU6e\"><tr><td><a href=\"/url?q=https://www.icc-cricket.com/news/2781588&amp;sa=U&amp;ved=2ahUKEwijso_chNSAAxXWUGwGHbSdDjEQqoUBegQIARAB&amp;usg=AOvVaw33Bf0KJ-t_NWI1DSt-pSpH\"><div class=\"NZWO1b\"><img alt=\"\" class=\"yWs4tf\" src=\"https://encrypted-tbn0.gstatic.com/images?q=tbn:ANd9GcTF27J5DbugDvO5PfQZVxpxWaYymNDAlTcQRep6vIwaWkt4MHgXkAnf2dHCUbk&amp;s\"/></div></a></td></tr><tr><td><a href=\"/url?q=https://www.icc-cricket.com/news/2781588&amp;sa=U&amp;ved=2ahUKEwijso_chNSAAxXWUGwGHbSdDjEQr4kDegQIARAC&amp;usg=AOvVaw2VtlpOwDT0rT6d2EXXtDSq\"><div class=\"jB2rPd\"> <span class=\"qXLe6d x3G5ab\"> <span class=\"fYyStc\">Kohli reveals lack of...</span> </span> <span class=\"qXLe6d F9iS2e\"> <span class=\"fYyStc\">www.icc-cricket.com</span> </span> </div></a></td></tr></table></div></div> </div> </div></td><td align=\"center\" class=\"e3goi\"><div class=\"mnTahd\"> <div> <div class=\"lIMUZd\"><div><table class=\"IkMU6e\"><tr><td><a href=\"/url?q=https://www.outlookindia.com/sports/virat-kohli-in-the-list-of-instagram-s-top-earner-from-india-here-s-how-much-he-earns-news-309908&amp;sa=U&amp;ved=2ahUKEwijso_chNSAAxXWUGwGHbSdDjEQqoUBegQIAhAB&amp;usg=AOvVaw01Ahluf18spHzeYAznEahT\"><div class=\"NZWO1b\"><img alt=\"\" class=\"yWs4tf\" src=\"https://encrypted-tbn0.gstatic.com/images?q=tbn:ANd9GcQf0FdkrnY1OJX-fK05nIEcBaBSUcvsmSrO-qV5ARDlCnpQ_lLryTidAQ5NkA&amp;s\"/></div></a></td></tr><tr><td><a href=\"/url?q=https://www.outlookindia.com/sports/virat-kohli-in-the-list-of-instagram-s-top-earner-from-india-here-s-how-much-he-earns-news-309908&amp;sa=U&amp;ved=2ahUKEwijso_chNSAAxXWUGwGHbSdDjEQr4kDegQIAhAC&amp;usg=AOvVaw3GQhkD6LpaGf6CTGj0oV6X\"><div class=\"jB2rPd\"> <span class=\"qXLe6d x3G5ab\"> <span class=\"fYyStc\">IMAGE_1685949461.webp</span> </span> <span class=\"qXLe6d F9iS2e\"> <span class=\"fYyStc\">www.outlookindia.com</span> </span> </div></a></td></tr></table></div></div> </div> </div></td><td align=\"center\" class=\"e3goi\"><div class=\"mnTahd\"> <div> <div class=\"lIMUZd\"><div><table class=\"IkMU6e\"><tr><td><a href=\"/url?q=https://mobcup.net/wallpapers/virat-kohli-hd&amp;sa=U&amp;ved=2ahUKEwijso_chNSAAxXWUGwGHbSdDjEQqoUBegQIABAB&amp;usg=AOvVaw16qTW-qN3bwFvdQ353QcCb\"><div class=\"NZWO1b\"><img alt=\"\" class=\"yWs4tf\" src=\"https://encrypted-tbn0.gstatic.com/images?q=tbn:ANd9GcS8KTiPsdIdv6tCZuf-oRwHoP4zesJHEmjSw7cAb2DxIRKzl8eI7bxEupbJGQI&amp;s\"/></div></a></td></tr><tr><td><a href=\"/url?q=https://mobcup.net/wallpapers/virat-kohli-hd&amp;sa=U&amp;ved=2ahUKEwijso_chNSAAxXWUGwGHbSdDjEQr4kDegQIABAC&amp;usg=AOvVaw2rwsYWj2MLMl1Vop1ZWxTb\"><div class=\"jB2rPd\"> <span class=\"qXLe6d x3G5ab\"> <span class=\"fYyStc\">Virat kohli hd Wallpapers...</span> </span> <span class=\"qXLe6d F9iS2e\"> <span class=\"fYyStc\">mobcup.net</span> </span> </div></a></td></tr></table></div></div> </div> </div></td><td align=\"center\" class=\"e3goi\"><div class=\"mnTahd\"> <div> <div class=\"lIMUZd\"><div><table class=\"IkMU6e\"><tr><td><a href=\"/url?q=https://www.forbes.com/profile/virat-kohli/&amp;sa=U&amp;ved=2ahUKEwijso_chNSAAxXWUGwGHbSdDjEQqoUBegQIBBAB&amp;usg=AOvVaw3OqO-bPeeuHufNHMg8PhcE\"><div class=\"NZWO1b\"><img alt=\"\" class=\"yWs4tf\" src=\"https://encrypted-tbn0.gstatic.com/images?q=tbn:ANd9GcQXhRozPeN_ofFzgMvQcHZvcplv3EpOrLtmrSnBG88kwoJo8RFn0Ev3aLykTYA&amp;s\"/></div></a></td></tr><tr><td><a href=\"/url?q=https://www.forbes.com/profile/virat-kohli/&amp;sa=U&amp;ved=2ahUKEwijso_chNSAAxXWUGwGHbSdDjEQr4kDegQIBBAC&amp;usg=AOvVaw1ZudVWcejqATz7iYej4aPc\"><div class=\"jB2rPd\"> <span class=\"qXLe6d x3G5ab\"> <span class=\"fYyStc\">0x0.jpg?format=jpg&amp;crop=233...</span> </span> <span class=\"qXLe6d F9iS2e\"> <span class=\"fYyStc\">www.forbes.com</span> </span> </div></a></td></tr></table></div></div> </div> </div></td></tr></table></div><table class=\"uZgmoc\"><tbody><td><a class=\"frGj1b\" href=\"/search?q=Virat+Kohli&amp;sca_esv=555778131&amp;rlz=1C1CHBD_enIN925IN925&amp;biw=1536&amp;bih=707&amp;ie=UTF-8&amp;tbm=isch&amp;ei=Ad3VZOOtDdahseMPtLu6iAM&amp;start=20&amp;sa=N\">Next &gt;</a></td></tbody></table><br/><div class=\"TuS8Ad\" data-ved=\"0ahUKEwijso_chNSAAxXWUGwGHbSdDjEQpyoIUg\"><style>.VYM29{font-weight:bold}</style><div align=\"center\" class=\"HddGcc\"><span class=\"VYM29\">Satpur Colony, Nashik, Maharashtra</span><span> - </span><span>From your IP address</span><span> - </span><a href=\"/url?q=https://support.google.com/websearch%3Fp%3Dws_settings_location%26hl%3Den-IN&amp;sa=U&amp;ved=0ahUKEwijso_chNSAAxXWUGwGHbSdDjEQty4IUw&amp;usg=AOvVaw0dfBkF9dbAo5pg6q9zIEWa\">Learn more</a></div><div align=\"center\"><a class=\"rEM8G\" href=\"/url?q=https://accounts.google.com/ServiceLogin%3Fcontinue%3Dhttps://www.google.com/search%253Fsca_esv%253D555778131%2526rlz%253D1C1CHBD_enIN925IN925%2526sxsrf%253DAB5stBhKkX79Ex50Brj0-NrRVUiHpjvpHg:1691732816052%2526q%253DVirat%252BKohli%2526tbm%253Disch%2526source%253Dlnms%2526sa%253DX%2526ved%253D2ahUKEwitx7js89OAAxV2dmwGHSK1BNgQ0pQJegQIDBAB%2526biw%253D1536%2526bih%253D707%2526dpr%253D1.25%26hl%3Den&amp;sa=U&amp;ved=0ahUKEwijso_chNSAAxXWUGwGHbSdDjEQxs8CCFQ&amp;usg=AOvVaw0-HcDjEsOfwLCq32qVeafn\">Sign in</a></div><div><table class=\"bookcf\"><tbody class=\"InWNIe\"><tr><td><a class=\"rEM8G\" href=\"https://www.google.com/preferences?hl=en&amp;sa=X&amp;ved=0ahUKEwijso_chNSAAxXWUGwGHbSdDjEQv5YECFU\">Settings</a></td><td><a class=\"rEM8G\" href=\"https://www.google.com/intl/en_in/policies/privacy/\">Privacy</a></td><td><a class=\"rEM8G\" href=\"https://www.google.com/intl/en_in/policies/terms/\">Terms</a></td></tr></tbody></table></div></div><div> </div></body></html>"
      ]
     },
     "execution_count": 123,
     "metadata": {},
     "output_type": "execute_result"
    }
   ],
   "source": [
    "soup"
   ]
  },
  {
   "cell_type": "code",
   "execution_count": 124,
   "id": "8a9510ec-f56e-4dd9-a02d-3165979d07f3",
   "metadata": {},
   "outputs": [],
   "source": [
    "image_tags = soup.find_all(\"img\")"
   ]
  },
  {
   "cell_type": "code",
   "execution_count": 125,
   "id": "4f5c18b5-1512-4c14-b775-6fd67cd41c67",
   "metadata": {},
   "outputs": [
    {
     "data": {
      "text/plain": [
       "[<img alt=\"Google\" class=\"kgJEQe\" src=\"/images/branding/searchlogo/1x/googlelogo_desk_heirloom_color_150x55dp.gif\"/>,\n",
       " <img alt=\"\" class=\"yWs4tf\" src=\"https://encrypted-tbn0.gstatic.com/images?q=tbn:ANd9GcSK5yCaJ2Z89H3mjG2pVjY9N4R5oiPNQPgSk0yYX4Wiv3mMSccD2ttNoKKUgg&amp;s\"/>,\n",
       " <img alt=\"\" class=\"yWs4tf\" src=\"https://encrypted-tbn0.gstatic.com/images?q=tbn:ANd9GcSsTQE9kUgA7CpXnlWeWO7nMT28THW_0zLfeLBhDC57BXHpZl6RjtWlXvCDD2M&amp;s\"/>,\n",
       " <img alt=\"\" class=\"yWs4tf\" src=\"https://encrypted-tbn0.gstatic.com/images?q=tbn:ANd9GcSjWdRodG8Y6ldFuSq2fgASCmjbfVVIzbnKcbwvpoULo3BBNC4lcGn3U3oppQ&amp;s\"/>,\n",
       " <img alt=\"\" class=\"yWs4tf\" src=\"https://encrypted-tbn0.gstatic.com/images?q=tbn:ANd9GcTU4lX_uLZskPYJP9vnpakjPHMu41EehJHA0RuA4ONU_rqBNJNgg68HohT0KTQ&amp;s\"/>,\n",
       " <img alt=\"\" class=\"yWs4tf\" src=\"https://encrypted-tbn0.gstatic.com/images?q=tbn:ANd9GcTReV0LciH03tq8BhPJQUDlahamoD23oX5-BsMeyykdWYERtg_Z-AkbRfyG9gs&amp;s\"/>,\n",
       " <img alt=\"\" class=\"yWs4tf\" src=\"https://encrypted-tbn0.gstatic.com/images?q=tbn:ANd9GcSApOD8cC7Jh33c0VqbcFkcmx0og9wr1DYsD50a8Tp3p-0I33M_SuuLXA0Kizk&amp;s\"/>,\n",
       " <img alt=\"\" class=\"yWs4tf\" src=\"https://encrypted-tbn0.gstatic.com/images?q=tbn:ANd9GcRUmjrvGXJizjGvSXrZg2hAqbeIYK_tTwBST4GWzLF1IORFCBn3VI-ZPXIr5_w&amp;s\"/>,\n",
       " <img alt=\"\" class=\"yWs4tf\" src=\"https://encrypted-tbn0.gstatic.com/images?q=tbn:ANd9GcSYb2hCfNGHcxzN5b9S3ssbiROUoNyLW_WYSLKPOiUjeTmd23VX1a3T3e7Vlfk&amp;s\"/>,\n",
       " <img alt=\"\" class=\"yWs4tf\" src=\"https://encrypted-tbn0.gstatic.com/images?q=tbn:ANd9GcSWCJUMuHC6piORC9aaRK1DLWpwFoffDjE3G0zM_-qFsqGHetdykdgNsNzmzA&amp;s\"/>,\n",
       " <img alt=\"\" class=\"yWs4tf\" src=\"https://encrypted-tbn0.gstatic.com/images?q=tbn:ANd9GcRC7PXGvWDQRZyszF12W3RoXjr_nZ0Ox_CnclTzEmkLtB72VCOpuxZthQ2ib14&amp;s\"/>,\n",
       " <img alt=\"\" class=\"yWs4tf\" src=\"https://encrypted-tbn0.gstatic.com/images?q=tbn:ANd9GcRH_DbJklV1yi6SfL9QCLllhUZrJPmeBMO9NYlOs-ZSPrDGJSWCekQKRAXknQ&amp;s\"/>,\n",
       " <img alt=\"\" class=\"yWs4tf\" src=\"https://encrypted-tbn0.gstatic.com/images?q=tbn:ANd9GcRLqGxMbCeVkZIDV3mQfmlpSxuBcW4YTlZBp78_utfaZ7ACU-1GI0fyT3cQVA&amp;s\"/>,\n",
       " <img alt=\"\" class=\"yWs4tf\" src=\"https://encrypted-tbn0.gstatic.com/images?q=tbn:ANd9GcT31MU-l5iezqCLOPE2jeiBB0geQsn8njIF0T290gdxybDBKMJOC5V1jM9QAg&amp;s\"/>,\n",
       " <img alt=\"\" class=\"yWs4tf\" src=\"https://encrypted-tbn0.gstatic.com/images?q=tbn:ANd9GcRqcsRxx8SzpaF1o_MYhUt_DbPpfhH1X5cr3x2Tkh75V5XHuNAZQQeDBUoke2s&amp;s\"/>,\n",
       " <img alt=\"\" class=\"yWs4tf\" src=\"https://encrypted-tbn0.gstatic.com/images?q=tbn:ANd9GcT1wPMwjom0BIO31H3orhKUkYsbT5oN4zOcNxb7iJU6UZEW74DL2MK14EkYsUc&amp;s\"/>,\n",
       " <img alt=\"\" class=\"yWs4tf\" src=\"https://encrypted-tbn0.gstatic.com/images?q=tbn:ANd9GcQ8uQIvZXJMtRljrDjNMDuQSBVPcTIfyX-c3mnPE_biPWLhrzOLT3O8TDzapg&amp;s\"/>,\n",
       " <img alt=\"\" class=\"yWs4tf\" src=\"https://encrypted-tbn0.gstatic.com/images?q=tbn:ANd9GcTF27J5DbugDvO5PfQZVxpxWaYymNDAlTcQRep6vIwaWkt4MHgXkAnf2dHCUbk&amp;s\"/>,\n",
       " <img alt=\"\" class=\"yWs4tf\" src=\"https://encrypted-tbn0.gstatic.com/images?q=tbn:ANd9GcQf0FdkrnY1OJX-fK05nIEcBaBSUcvsmSrO-qV5ARDlCnpQ_lLryTidAQ5NkA&amp;s\"/>,\n",
       " <img alt=\"\" class=\"yWs4tf\" src=\"https://encrypted-tbn0.gstatic.com/images?q=tbn:ANd9GcS8KTiPsdIdv6tCZuf-oRwHoP4zesJHEmjSw7cAb2DxIRKzl8eI7bxEupbJGQI&amp;s\"/>,\n",
       " <img alt=\"\" class=\"yWs4tf\" src=\"https://encrypted-tbn0.gstatic.com/images?q=tbn:ANd9GcQXhRozPeN_ofFzgMvQcHZvcplv3EpOrLtmrSnBG88kwoJo8RFn0Ev3aLykTYA&amp;s\"/>]"
      ]
     },
     "execution_count": 125,
     "metadata": {},
     "output_type": "execute_result"
    }
   ],
   "source": [
    "image_tags"
   ]
  },
  {
   "cell_type": "code",
   "execution_count": 126,
   "id": "54b7f106-b4e7-444b-81c0-04f439d8f394",
   "metadata": {},
   "outputs": [
    {
     "data": {
      "text/plain": [
       "<img alt=\"Google\" class=\"kgJEQe\" src=\"/images/branding/searchlogo/1x/googlelogo_desk_heirloom_color_150x55dp.gif\"/>"
      ]
     },
     "execution_count": 126,
     "metadata": {},
     "output_type": "execute_result"
    }
   ],
   "source": [
    "image_tags[0]"
   ]
  },
  {
   "cell_type": "code",
   "execution_count": 127,
   "id": "3a9f73be-580c-40f2-8d4b-b1e1bdda9a09",
   "metadata": {},
   "outputs": [],
   "source": [
    "del image_tags[0]"
   ]
  },
  {
   "cell_type": "code",
   "execution_count": 128,
   "id": "541b7df7-ae2e-4a93-aadd-2f696f560500",
   "metadata": {},
   "outputs": [
    {
     "data": {
      "text/plain": [
       "[<img alt=\"\" class=\"yWs4tf\" src=\"https://encrypted-tbn0.gstatic.com/images?q=tbn:ANd9GcSK5yCaJ2Z89H3mjG2pVjY9N4R5oiPNQPgSk0yYX4Wiv3mMSccD2ttNoKKUgg&amp;s\"/>,\n",
       " <img alt=\"\" class=\"yWs4tf\" src=\"https://encrypted-tbn0.gstatic.com/images?q=tbn:ANd9GcSsTQE9kUgA7CpXnlWeWO7nMT28THW_0zLfeLBhDC57BXHpZl6RjtWlXvCDD2M&amp;s\"/>,\n",
       " <img alt=\"\" class=\"yWs4tf\" src=\"https://encrypted-tbn0.gstatic.com/images?q=tbn:ANd9GcSjWdRodG8Y6ldFuSq2fgASCmjbfVVIzbnKcbwvpoULo3BBNC4lcGn3U3oppQ&amp;s\"/>,\n",
       " <img alt=\"\" class=\"yWs4tf\" src=\"https://encrypted-tbn0.gstatic.com/images?q=tbn:ANd9GcTU4lX_uLZskPYJP9vnpakjPHMu41EehJHA0RuA4ONU_rqBNJNgg68HohT0KTQ&amp;s\"/>,\n",
       " <img alt=\"\" class=\"yWs4tf\" src=\"https://encrypted-tbn0.gstatic.com/images?q=tbn:ANd9GcTReV0LciH03tq8BhPJQUDlahamoD23oX5-BsMeyykdWYERtg_Z-AkbRfyG9gs&amp;s\"/>,\n",
       " <img alt=\"\" class=\"yWs4tf\" src=\"https://encrypted-tbn0.gstatic.com/images?q=tbn:ANd9GcSApOD8cC7Jh33c0VqbcFkcmx0og9wr1DYsD50a8Tp3p-0I33M_SuuLXA0Kizk&amp;s\"/>,\n",
       " <img alt=\"\" class=\"yWs4tf\" src=\"https://encrypted-tbn0.gstatic.com/images?q=tbn:ANd9GcRUmjrvGXJizjGvSXrZg2hAqbeIYK_tTwBST4GWzLF1IORFCBn3VI-ZPXIr5_w&amp;s\"/>,\n",
       " <img alt=\"\" class=\"yWs4tf\" src=\"https://encrypted-tbn0.gstatic.com/images?q=tbn:ANd9GcSYb2hCfNGHcxzN5b9S3ssbiROUoNyLW_WYSLKPOiUjeTmd23VX1a3T3e7Vlfk&amp;s\"/>,\n",
       " <img alt=\"\" class=\"yWs4tf\" src=\"https://encrypted-tbn0.gstatic.com/images?q=tbn:ANd9GcSWCJUMuHC6piORC9aaRK1DLWpwFoffDjE3G0zM_-qFsqGHetdykdgNsNzmzA&amp;s\"/>,\n",
       " <img alt=\"\" class=\"yWs4tf\" src=\"https://encrypted-tbn0.gstatic.com/images?q=tbn:ANd9GcRC7PXGvWDQRZyszF12W3RoXjr_nZ0Ox_CnclTzEmkLtB72VCOpuxZthQ2ib14&amp;s\"/>,\n",
       " <img alt=\"\" class=\"yWs4tf\" src=\"https://encrypted-tbn0.gstatic.com/images?q=tbn:ANd9GcRH_DbJklV1yi6SfL9QCLllhUZrJPmeBMO9NYlOs-ZSPrDGJSWCekQKRAXknQ&amp;s\"/>,\n",
       " <img alt=\"\" class=\"yWs4tf\" src=\"https://encrypted-tbn0.gstatic.com/images?q=tbn:ANd9GcRLqGxMbCeVkZIDV3mQfmlpSxuBcW4YTlZBp78_utfaZ7ACU-1GI0fyT3cQVA&amp;s\"/>,\n",
       " <img alt=\"\" class=\"yWs4tf\" src=\"https://encrypted-tbn0.gstatic.com/images?q=tbn:ANd9GcT31MU-l5iezqCLOPE2jeiBB0geQsn8njIF0T290gdxybDBKMJOC5V1jM9QAg&amp;s\"/>,\n",
       " <img alt=\"\" class=\"yWs4tf\" src=\"https://encrypted-tbn0.gstatic.com/images?q=tbn:ANd9GcRqcsRxx8SzpaF1o_MYhUt_DbPpfhH1X5cr3x2Tkh75V5XHuNAZQQeDBUoke2s&amp;s\"/>,\n",
       " <img alt=\"\" class=\"yWs4tf\" src=\"https://encrypted-tbn0.gstatic.com/images?q=tbn:ANd9GcT1wPMwjom0BIO31H3orhKUkYsbT5oN4zOcNxb7iJU6UZEW74DL2MK14EkYsUc&amp;s\"/>,\n",
       " <img alt=\"\" class=\"yWs4tf\" src=\"https://encrypted-tbn0.gstatic.com/images?q=tbn:ANd9GcQ8uQIvZXJMtRljrDjNMDuQSBVPcTIfyX-c3mnPE_biPWLhrzOLT3O8TDzapg&amp;s\"/>,\n",
       " <img alt=\"\" class=\"yWs4tf\" src=\"https://encrypted-tbn0.gstatic.com/images?q=tbn:ANd9GcTF27J5DbugDvO5PfQZVxpxWaYymNDAlTcQRep6vIwaWkt4MHgXkAnf2dHCUbk&amp;s\"/>,\n",
       " <img alt=\"\" class=\"yWs4tf\" src=\"https://encrypted-tbn0.gstatic.com/images?q=tbn:ANd9GcQf0FdkrnY1OJX-fK05nIEcBaBSUcvsmSrO-qV5ARDlCnpQ_lLryTidAQ5NkA&amp;s\"/>,\n",
       " <img alt=\"\" class=\"yWs4tf\" src=\"https://encrypted-tbn0.gstatic.com/images?q=tbn:ANd9GcS8KTiPsdIdv6tCZuf-oRwHoP4zesJHEmjSw7cAb2DxIRKzl8eI7bxEupbJGQI&amp;s\"/>,\n",
       " <img alt=\"\" class=\"yWs4tf\" src=\"https://encrypted-tbn0.gstatic.com/images?q=tbn:ANd9GcQXhRozPeN_ofFzgMvQcHZvcplv3EpOrLtmrSnBG88kwoJo8RFn0Ev3aLykTYA&amp;s\"/>]"
      ]
     },
     "execution_count": 128,
     "metadata": {},
     "output_type": "execute_result"
    }
   ],
   "source": [
    "image_tags"
   ]
  },
  {
   "cell_type": "code",
   "execution_count": 129,
   "id": "1240062c-5634-45db-97d4-9f7d2547af7f",
   "metadata": {},
   "outputs": [
    {
     "data": {
      "text/plain": [
       "20"
      ]
     },
     "execution_count": 129,
     "metadata": {},
     "output_type": "execute_result"
    }
   ],
   "source": [
    "len(image_tags)"
   ]
  },
  {
   "cell_type": "code",
   "execution_count": 134,
   "id": "de5834ac-2df6-4272-b59c-b0bde5f45d81",
   "metadata": {},
   "outputs": [
    {
     "data": {
      "text/plain": [
       "'images/Virat Kohli_19.jpg'"
      ]
     },
     "execution_count": 134,
     "metadata": {},
     "output_type": "execute_result"
    }
   ],
   "source": [
    "os.path.join(save_dir,f\"{query}_{image_tags.index(i)}.jpg\")"
   ]
  },
  {
   "cell_type": "code",
   "execution_count": 135,
   "id": "bac40a3b-bf29-4d79-a7cb-37a0f57dfb21",
   "metadata": {},
   "outputs": [],
   "source": [
    "for i in image_tags:\n",
    "    image_url = i['src']\n",
    "    image_data=requests.get(image_url).content\n",
    "    with open(os.path.join(save_dir,f\"{query}_{image_tags.index(i)}.jpg\"),\"wb\") as f:\n",
    "        f.write(image_data)"
   ]
  },
  {
   "cell_type": "code",
   "execution_count": null,
   "id": "50f16fa6-4678-405a-9873-22b27c897e88",
   "metadata": {},
   "outputs": [],
   "source": []
  },
  {
   "cell_type": "code",
   "execution_count": null,
   "id": "696c733d-0cec-423a-bb01-1a6888bb60f2",
   "metadata": {},
   "outputs": [],
   "source": []
  }
 ],
 "metadata": {
  "kernelspec": {
   "display_name": "Python 3 (ipykernel)",
   "language": "python",
   "name": "python3"
  },
  "language_info": {
   "codemirror_mode": {
    "name": "ipython",
    "version": 3
   },
   "file_extension": ".py",
   "mimetype": "text/x-python",
   "name": "python",
   "nbconvert_exporter": "python",
   "pygments_lexer": "ipython3",
   "version": "3.8.17"
  }
 },
 "nbformat": 4,
 "nbformat_minor": 5
}
